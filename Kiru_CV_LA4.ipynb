{
  "nbformat": 4,
  "nbformat_minor": 0,
  "metadata": {
    "colab": {
      "provenance": []
    },
    "kernelspec": {
      "name": "python3",
      "display_name": "Python 3"
    },
    "language_info": {
      "name": "python"
    },
    "gpuClass": "premium"
  },
  "cells": [
    {
      "cell_type": "markdown",
      "source": [
        "# Lab Assignment 4\n",
        "\n",
        "**Computer Vision** - Term 5, 2023\n",
        "\n",
        "Instructor: Dr. Saumya Jetley <br>\n",
        "TA: Ribhu Lahiri, Raghav Awasty\n"
      ],
      "metadata": {
        "id": "wMpd_g_2supN"
      }
    },
    {
      "cell_type": "markdown",
      "source": [
        "### Before Starting\n",
        "\n",
        "Please download the FER-2013 dataset using the cell below\n",
        "\n",
        "You will need it for the tasks that follow."
      ],
      "metadata": {
        "id": "vw1BAgfama5b"
      }
    },
    {
      "cell_type": "code",
      "source": [
        "import gdown\n",
        "\n",
        "!gdown \"1uFKf3RHcYZVFHaejNMmz_lBgICIZf5VH&confirm=t\" -O 'fer2013.zip'"
      ],
      "metadata": {
        "id": "iE6BsL3NJw4X",
        "colab": {
          "base_uri": "https://localhost:8080/"
        },
        "outputId": "79278d47-8e8d-4d66-fb43-4f11f44207a2"
      },
      "execution_count": 2,
      "outputs": [
        {
          "output_type": "stream",
          "name": "stdout",
          "text": [
            "Downloading...\n",
            "From: https://drive.google.com/uc?id=1uFKf3RHcYZVFHaejNMmz_lBgICIZf5VH&confirm=t\n",
            "To: /content/fer2013.zip\n",
            "100% 101M/101M [00:01<00:00, 94.8MB/s] \n"
          ]
        }
      ]
    },
    {
      "cell_type": "code",
      "source": [
        "! unzip fer2013.zip"
      ],
      "metadata": {
        "colab": {
          "base_uri": "https://localhost:8080/"
        },
        "id": "GAllzAi2ImMb",
        "outputId": "341efece-7994-41e6-e778-863d1c72c728"
      },
      "execution_count": 3,
      "outputs": [
        {
          "output_type": "stream",
          "name": "stdout",
          "text": [
            "Archive:  fer2013.zip\n",
            "  inflating: fer2013.csv             \n"
          ]
        }
      ]
    },
    {
      "cell_type": "code",
      "execution_count": 4,
      "metadata": {
        "id": "fJNYVdxmsm8F"
      },
      "outputs": [],
      "source": [
        "import math\n",
        "import numpy as np\n",
        "import matplotlib.pyplot as plt\n",
        "import pandas as pd\n",
        "from skimage import io\n",
        "from skimage import color\n",
        "from skimage.transform import resize\n",
        "from skimage.feature import hog"
      ]
    },
    {
      "cell_type": "code",
      "source": [
        "# Reading in the dataset\n",
        "df = pd.read_csv('./fer2013.csv')\n",
        "df.head()"
      ],
      "metadata": {
        "id": "5e5hHSSHphHU",
        "colab": {
          "base_uri": "https://localhost:8080/",
          "height": 206
        },
        "outputId": "d756f69a-3492-474e-81cc-9dcbdb924be6"
      },
      "execution_count": 5,
      "outputs": [
        {
          "output_type": "execute_result",
          "data": {
            "text/plain": [
              "   emotion                                             pixels     Usage\n",
              "0        0  70 80 82 72 58 58 60 63 54 58 60 48 89 115 121...  Training\n",
              "1        0  151 150 147 155 148 133 111 140 170 174 182 15...  Training\n",
              "2        2  231 212 156 164 174 138 161 173 182 200 106 38...  Training\n",
              "3        4  24 32 36 30 32 23 19 20 30 41 21 22 32 34 21 1...  Training\n",
              "4        6  4 0 0 0 0 0 0 0 0 0 0 0 3 15 23 28 48 50 58 84...  Training"
            ],
            "text/html": [
              "\n",
              "  <div id=\"df-2acbfa8e-8f4d-4dfb-b470-9d6db05b25c5\">\n",
              "    <div class=\"colab-df-container\">\n",
              "      <div>\n",
              "<style scoped>\n",
              "    .dataframe tbody tr th:only-of-type {\n",
              "        vertical-align: middle;\n",
              "    }\n",
              "\n",
              "    .dataframe tbody tr th {\n",
              "        vertical-align: top;\n",
              "    }\n",
              "\n",
              "    .dataframe thead th {\n",
              "        text-align: right;\n",
              "    }\n",
              "</style>\n",
              "<table border=\"1\" class=\"dataframe\">\n",
              "  <thead>\n",
              "    <tr style=\"text-align: right;\">\n",
              "      <th></th>\n",
              "      <th>emotion</th>\n",
              "      <th>pixels</th>\n",
              "      <th>Usage</th>\n",
              "    </tr>\n",
              "  </thead>\n",
              "  <tbody>\n",
              "    <tr>\n",
              "      <th>0</th>\n",
              "      <td>0</td>\n",
              "      <td>70 80 82 72 58 58 60 63 54 58 60 48 89 115 121...</td>\n",
              "      <td>Training</td>\n",
              "    </tr>\n",
              "    <tr>\n",
              "      <th>1</th>\n",
              "      <td>0</td>\n",
              "      <td>151 150 147 155 148 133 111 140 170 174 182 15...</td>\n",
              "      <td>Training</td>\n",
              "    </tr>\n",
              "    <tr>\n",
              "      <th>2</th>\n",
              "      <td>2</td>\n",
              "      <td>231 212 156 164 174 138 161 173 182 200 106 38...</td>\n",
              "      <td>Training</td>\n",
              "    </tr>\n",
              "    <tr>\n",
              "      <th>3</th>\n",
              "      <td>4</td>\n",
              "      <td>24 32 36 30 32 23 19 20 30 41 21 22 32 34 21 1...</td>\n",
              "      <td>Training</td>\n",
              "    </tr>\n",
              "    <tr>\n",
              "      <th>4</th>\n",
              "      <td>6</td>\n",
              "      <td>4 0 0 0 0 0 0 0 0 0 0 0 3 15 23 28 48 50 58 84...</td>\n",
              "      <td>Training</td>\n",
              "    </tr>\n",
              "  </tbody>\n",
              "</table>\n",
              "</div>\n",
              "      <button class=\"colab-df-convert\" onclick=\"convertToInteractive('df-2acbfa8e-8f4d-4dfb-b470-9d6db05b25c5')\"\n",
              "              title=\"Convert this dataframe to an interactive table.\"\n",
              "              style=\"display:none;\">\n",
              "        \n",
              "  <svg xmlns=\"http://www.w3.org/2000/svg\" height=\"24px\"viewBox=\"0 0 24 24\"\n",
              "       width=\"24px\">\n",
              "    <path d=\"M0 0h24v24H0V0z\" fill=\"none\"/>\n",
              "    <path d=\"M18.56 5.44l.94 2.06.94-2.06 2.06-.94-2.06-.94-.94-2.06-.94 2.06-2.06.94zm-11 1L8.5 8.5l.94-2.06 2.06-.94-2.06-.94L8.5 2.5l-.94 2.06-2.06.94zm10 10l.94 2.06.94-2.06 2.06-.94-2.06-.94-.94-2.06-.94 2.06-2.06.94z\"/><path d=\"M17.41 7.96l-1.37-1.37c-.4-.4-.92-.59-1.43-.59-.52 0-1.04.2-1.43.59L10.3 9.45l-7.72 7.72c-.78.78-.78 2.05 0 2.83L4 21.41c.39.39.9.59 1.41.59.51 0 1.02-.2 1.41-.59l7.78-7.78 2.81-2.81c.8-.78.8-2.07 0-2.86zM5.41 20L4 18.59l7.72-7.72 1.47 1.35L5.41 20z\"/>\n",
              "  </svg>\n",
              "      </button>\n",
              "      \n",
              "  <style>\n",
              "    .colab-df-container {\n",
              "      display:flex;\n",
              "      flex-wrap:wrap;\n",
              "      gap: 12px;\n",
              "    }\n",
              "\n",
              "    .colab-df-convert {\n",
              "      background-color: #E8F0FE;\n",
              "      border: none;\n",
              "      border-radius: 50%;\n",
              "      cursor: pointer;\n",
              "      display: none;\n",
              "      fill: #1967D2;\n",
              "      height: 32px;\n",
              "      padding: 0 0 0 0;\n",
              "      width: 32px;\n",
              "    }\n",
              "\n",
              "    .colab-df-convert:hover {\n",
              "      background-color: #E2EBFA;\n",
              "      box-shadow: 0px 1px 2px rgba(60, 64, 67, 0.3), 0px 1px 3px 1px rgba(60, 64, 67, 0.15);\n",
              "      fill: #174EA6;\n",
              "    }\n",
              "\n",
              "    [theme=dark] .colab-df-convert {\n",
              "      background-color: #3B4455;\n",
              "      fill: #D2E3FC;\n",
              "    }\n",
              "\n",
              "    [theme=dark] .colab-df-convert:hover {\n",
              "      background-color: #434B5C;\n",
              "      box-shadow: 0px 1px 3px 1px rgba(0, 0, 0, 0.15);\n",
              "      filter: drop-shadow(0px 1px 2px rgba(0, 0, 0, 0.3));\n",
              "      fill: #FFFFFF;\n",
              "    }\n",
              "  </style>\n",
              "\n",
              "      <script>\n",
              "        const buttonEl =\n",
              "          document.querySelector('#df-2acbfa8e-8f4d-4dfb-b470-9d6db05b25c5 button.colab-df-convert');\n",
              "        buttonEl.style.display =\n",
              "          google.colab.kernel.accessAllowed ? 'block' : 'none';\n",
              "\n",
              "        async function convertToInteractive(key) {\n",
              "          const element = document.querySelector('#df-2acbfa8e-8f4d-4dfb-b470-9d6db05b25c5');\n",
              "          const dataTable =\n",
              "            await google.colab.kernel.invokeFunction('convertToInteractive',\n",
              "                                                     [key], {});\n",
              "          if (!dataTable) return;\n",
              "\n",
              "          const docLinkHtml = 'Like what you see? Visit the ' +\n",
              "            '<a target=\"_blank\" href=https://colab.research.google.com/notebooks/data_table.ipynb>data table notebook</a>'\n",
              "            + ' to learn more about interactive tables.';\n",
              "          element.innerHTML = '';\n",
              "          dataTable['output_type'] = 'display_data';\n",
              "          await google.colab.output.renderOutput(dataTable, element);\n",
              "          const docLink = document.createElement('div');\n",
              "          docLink.innerHTML = docLinkHtml;\n",
              "          element.appendChild(docLink);\n",
              "        }\n",
              "      </script>\n",
              "    </div>\n",
              "  </div>\n",
              "  "
            ]
          },
          "metadata": {},
          "execution_count": 5
        }
      ]
    },
    {
      "cell_type": "code",
      "source": [
        "# Extract relevant data\n",
        "x_data = pd.Series(df.pixels)\n",
        "y_data = pd.Series(df.emotion)\n",
        "x_data = np.array(list(map(str.split, x_data)), np.float32)\n",
        "x_data/=255 # Normalizing"
      ],
      "metadata": {
        "id": "VFU8YbxAw0pB"
      },
      "execution_count": 6,
      "outputs": []
    },
    {
      "cell_type": "code",
      "source": [
        "# Reshape into 48x48 images\n",
        "x_data = x_data.reshape(-1, 48, 48)\n",
        "x_data.shape"
      ],
      "metadata": {
        "colab": {
          "base_uri": "https://localhost:8080/"
        },
        "id": "m-cBru5_yJc-",
        "outputId": "87b7ee3b-3a16-4df4-fd95-a0ca100ed1f8"
      },
      "execution_count": 7,
      "outputs": [
        {
          "output_type": "execute_result",
          "data": {
            "text/plain": [
              "(35887, 48, 48)"
            ]
          },
          "metadata": {},
          "execution_count": 7
        }
      ]
    },
    {
      "cell_type": "markdown",
      "source": [
        "### Task 1: Creating histogram of Oriented Gradients (4 points)\n",
        "The first task is to create the histogram of oriented gradients feature descriptor. There are two steps to it, the first is to create the oriented gradients from a given image which returns the magnitude and angle matrices. The next step then, is to use those matrices to create the histogram features.\n",
        "\n",
        "You can refer to this blog as discussed in the lab session: https://iq.opengenus.org/object-detection-with-histogram-of-oriented-gradients-hog/"
      ],
      "metadata": {
        "id": "VqkUjbYYIj2j"
      }
    },
    {
      "cell_type": "markdown",
      "source": [
        "**Implement the `get_oriented_gradients` function** *(2 points)*\n",
        "\n",
        "Use any sample image from the dataset to test out your function"
      ],
      "metadata": {
        "id": "KabkjpN5w1Fr"
      }
    },
    {
      "cell_type": "code",
      "source": [
        "# Read in any image from the dataset\n",
        "img = x_data[2]\n",
        "plt.figure(figsize=(15, 8))\n",
        "plt.imshow(img, cmap=\"gray\")\n",
        "plt.axis(\"off\")\n",
        "plt.show()"
      ],
      "metadata": {
        "id": "cNWIy4JpJ10B",
        "colab": {
          "base_uri": "https://localhost:8080/",
          "height": 466
        },
        "outputId": "b42ad65c-d2a3-4d88-8b4a-b14bf1e49bea"
      },
      "execution_count": 8,
      "outputs": [
        {
          "output_type": "display_data",
          "data": {
            "text/plain": [
              "<Figure size 1080x576 with 1 Axes>"
            ],
            "image/png": "[encoded data removed]"
          },
          "metadata": {
            "needs_background": "light"
          }
        }
      ]
    },
    {
      "cell_type": "code",
      "source": [
        "# Task: \n",
        "\n",
        "def window(receptive_field, filter):\n",
        "    ''' \n",
        "    Convolves a filter over the receptive field from the image\n",
        "\n",
        "    Parameters\n",
        "    ----------\n",
        "    receptive_field: np.ndarray\n",
        "        The portion of the image the convolution is being done over\n",
        "\n",
        "    filter: np.ndarray\n",
        "        The defined filter\n",
        "\n",
        "    Returns\n",
        "    -------\n",
        "    np.ndarray\n",
        "        The convolved receptive field output\n",
        "    '''\n",
        "  \n",
        "    return np.sum(filter * receptive_field)\n",
        "    \n",
        "def convolve(image, kernel):\n",
        "    ''' \n",
        "    Convolves the filter over the image (sliding window)\n",
        "\n",
        "    Parameters\n",
        "    ----------\n",
        "    image: np.ndarray\n",
        "        The image as a 2-dimensional matrix\n",
        "\n",
        "    kernel: np.ndarray\n",
        "        The defined filter\n",
        "\n",
        "    Returns\n",
        "    -------\n",
        "    output_image: np.ndarray\n",
        "        The image after convolving the filter over it\n",
        "    '''\n",
        "\n",
        "    # Here I am doing the convolution with the zero padding to preseve the image shape\n",
        "\n",
        "    #step1:  zero pad the input image: Assuming both image and kernal are square shaped\n",
        "    pw = kernel.shape[0]//2  \n",
        "    shape = image.shape\n",
        "\n",
        "    image = np.pad(image, pad_width = pw, mode = \"constant\")\n",
        "\n",
        "    #step2: initialize the output:\n",
        "    output = np.zeros(shape)\n",
        "\n",
        "    #step 3: interatively convolve:\n",
        "    for i in range(pw,shape[0]+pw):\n",
        "      for j in range(pw,shape[1]+pw):\n",
        "        output[i-pw,j-pw] = window(image[i-pw:i+pw+1,j-pw:j+pw+1],kernel)\n",
        "    \n",
        "    return output    "
      ],
      "metadata": {
        "id": "ZE_Elu-iBKGA"
      },
      "execution_count": 9,
      "outputs": []
    },
    {
      "cell_type": "code",
      "source": [
        "img = np.array(img)\n",
        "def get_oriented_gradients(img):\n",
        "  '''\n",
        "    Returns the magnitude and angles of the oriented gradients\n",
        "    from the given image\n",
        "\n",
        "    Parameters\n",
        "    ----------\n",
        "    img: np.ndarray\n",
        "        The given image\n",
        "\n",
        "    Returns\n",
        "    -------\n",
        "    mag: np.ndarray\n",
        "        2-D Numpy array that contains the magnitudes of the oriented gradients\n",
        "\n",
        "    theta: np.ndarray\n",
        "        2-D Numpy array that contains the angles of the oriented gradients\n",
        "  '''\n",
        "  # Sobel filters\n",
        "  sobel_x = np.array([[-1, 0, 1], \n",
        "                      [-2, 0, 2], \n",
        "                      [-1, 0, 1]])\n",
        "\n",
        "  sobel_y = np.array([[-1, -2, -1], \n",
        "                      [0, 0, 0], \n",
        "                      [1, 2, 1]])\n",
        "\n",
        "  # gaussian_1d = np.array([1, 2, 1],np.float32)\n",
        "  # x_derivative = np.array([-1, 0, 1],np.float32)\n",
        "  # s_x = np.outer(gaussian_1d, x_derivative)  \n",
        "  # s_y = np.outer(x_derivative, gaussian_1d)\n",
        "\n",
        "  filtered_v = convolve(img, sobel_x)\n",
        "  filtered_h = convolve(img, sobel_y)\n",
        "\n",
        "  mag   =  np.sqrt(filtered_h**2 + filtered_v**2)\n",
        "  m = mag.max()\n",
        "  if m!=0:\n",
        "    mag = mag/m\n",
        "    \n",
        "  theta = np.rad2deg(np.arctan2(filtered_v, filtered_h))\n",
        "  theta = theta%180 \n",
        "  return mag,theta"
      ],
      "metadata": {
        "id": "cdkGQ2YXsreO"
      },
      "execution_count": 10,
      "outputs": []
    },
    {
      "cell_type": "code",
      "source": [
        "mag, theta = get_oriented_gradients(img)"
      ],
      "metadata": {
        "id": "rGvGXXnssw_R"
      },
      "execution_count": 11,
      "outputs": []
    },
    {
      "cell_type": "code",
      "source": [
        "plt.figure(figsize=(15, 8))\n",
        "plt.imshow(mag, cmap=\"gray\")\n",
        "plt.axis(\"off\")\n",
        "plt.show()"
      ],
      "metadata": {
        "colab": {
          "base_uri": "https://localhost:8080/",
          "height": 466
        },
        "id": "QA6w4hYfBw9x",
        "outputId": "3d559c78-fdf5-44c3-d380-3fe4f84116fa"
      },
      "execution_count": 12,
      "outputs": [
        {
          "output_type": "display_data",
          "data": {
            "text/plain": [
              "<Figure size 1080x576 with 1 Axes>"
            ],
            "image/png": "[encoded data removed]"
          },
          "metadata": {
            "needs_background": "light"
          }
        }
      ]
    },
    {
      "cell_type": "code",
      "source": [
        "plt.figure(figsize=(15, 8))\n",
        "plt.imshow(theta, cmap=\"gray\")\n",
        "plt.axis(\"off\")\n",
        "plt.show()"
      ],
      "metadata": {
        "colab": {
          "base_uri": "https://localhost:8080/",
          "height": 466
        },
        "id": "-_wq8ax-B06U",
        "outputId": "4f7416ab-3465-40d3-e45c-97e7d35c47b1"
      },
      "execution_count": 13,
      "outputs": [
        {
          "output_type": "display_data",
          "data": {
            "text/plain": [
              "<Figure size 1080x576 with 1 Axes>"
            ],
            "image/png": "[encoded data removed]"
          },
          "metadata": {
            "needs_background": "light"
          }
        }
      ]
    },
    {
      "cell_type": "code",
      "source": [
        "m_viz = (mag > 0.4).astype(float)\n",
        "plt.figure(figsize=(15, 8))\n",
        "plt.imshow(m_viz, cmap=\"gray\")\n",
        "plt.axis(\"off\")\n",
        "plt.show()"
      ],
      "metadata": {
        "colab": {
          "base_uri": "https://localhost:8080/",
          "height": 466
        },
        "id": "-h5_xBcRCbvI",
        "outputId": "0afc7d9a-bc49-4b9c-97b4-0eec04db0f5b"
      },
      "execution_count": 37,
      "outputs": [
        {
          "output_type": "display_data",
          "data": {
            "text/plain": [
              "<Figure size 1080x576 with 1 Axes>"
            ],
            "image/png": "[encoded data removed]"
          },
          "metadata": {
            "needs_background": "light"
          }
        }
      ]
    },
    {
      "cell_type": "markdown",
      "source": [
        "**Implement the `hog_features` function** *(2 points)*\n",
        "\n",
        "Use the image, magnitudes, and angles of oriented gradients to bin them and create the HoG features to be used by our classifier\n",
        "\n",
        "NOTE: While I have set the default value of number of bins as 9. Feel free to experiment and observe the effects of changing it on the downstream task"
      ],
      "metadata": {
        "id": "6RZqycoEmypz"
      }
    },
    {
      "cell_type": "code",
      "source": [
        "from sklearn.preprocessing import MinMaxScaler\n",
        "scaler = MinMaxScaler()"
      ],
      "metadata": {
        "id": "AW-MxHIoEtYO"
      },
      "execution_count": 15,
      "outputs": []
    },
    {
      "cell_type": "code",
      "source": [
        "def helper(grad,angles):\n",
        "  out = np.zeros(9)\n",
        "  for i in range(grad.shape[0]):\n",
        "    for j in range(grad.shape[1]):\n",
        "      o      = angles[i,j]//20\n",
        "      out[int(o)]+=grad[i,j]\n",
        "  return out  \n",
        "\n"
      ],
      "metadata": {
        "id": "D8iLE2q2Mfnj"
      },
      "execution_count": 16,
      "outputs": []
    },
    {
      "cell_type": "code",
      "source": [
        "def hog_features(img):\n",
        "  '''\n",
        "    Create the histogram of oriented gradients feature vector\n",
        "\n",
        "    Parameters\n",
        "    ----------\n",
        "    img: np.ndarray\n",
        "        The given image\n",
        "\n",
        "    nbins: int\n",
        "        The number of buckets (bins) in which to organise the oriented gradients\n",
        "\n",
        "    mag: np.ndarray\n",
        "        2-D Numpy array that contains the magnitudes of the oriented gradients\n",
        "\n",
        "    theta: np.ndarray\n",
        "        2-D Numpy array that contains the angles of the oriented gradients\n",
        "\n",
        "    Returns\n",
        "    -------\n",
        "    np.ndarray\n",
        "        The HoG features \n",
        "        [given input of 48x48 images, 8x8 cells with 9 bins, \n",
        "         and 16x16 normalized blocks should be 1296:\n",
        "            6 moves in the x-direction\n",
        "            6 moves in the y-direction\n",
        "             6*12*9 -->648]\n",
        "  '''\n",
        "  # nbins = 9\n",
        "\n",
        "  mag,theta = get_oriented_gradients(img)\n",
        "\n",
        "  histograms = []\n",
        "  for i in range(6):\n",
        "    for j in range(6):\n",
        "      grad   = mag[i*8:(i+1)*8,j*8:(j+1)*8]\n",
        "      angles = theta[i*8:(i+1)*8,j*8:(j+1)*8]\n",
        "      histograms.append(helper(grad,angles))\n",
        "  histograms = np.array(histograms).flatten()\n",
        "\n",
        "  #normalizing the histogram for every 16*16 patch --> every 36 elements\n",
        "  temp = histograms\n",
        "  for i in range(9):\n",
        "    m =  histograms[i*36 :(i+1)*36].max()\n",
        "    if m==0:\n",
        "      continue\n",
        "    histograms[i*36 :(i+1)*36] = histograms[i*36 :(i+1)*36]/m\n",
        "  return histograms"
      ],
      "metadata": {
        "id": "WqiVNl9cf-Bc"
      },
      "execution_count": 17,
      "outputs": []
    },
    {
      "cell_type": "markdown",
      "source": [
        "Trying it out on the image"
      ],
      "metadata": {
        "id": "PDzFchiwn1Wm"
      }
    },
    {
      "cell_type": "code",
      "source": [
        "hist_image = hog_features(img)"
      ],
      "metadata": {
        "id": "7Ygwfv4qnkX3"
      },
      "execution_count": 18,
      "outputs": []
    },
    {
      "cell_type": "code",
      "source": [
        "hist_image.shape"
      ],
      "metadata": {
        "colab": {
          "base_uri": "https://localhost:8080/"
        },
        "id": "agiYo_i2nwWN",
        "outputId": "6b443b1b-5ab9-4a8a-a4af-2484f0a92043"
      },
      "execution_count": 19,
      "outputs": [
        {
          "output_type": "execute_result",
          "data": {
            "text/plain": [
              "(324,)"
            ]
          },
          "metadata": {},
          "execution_count": 19
        }
      ]
    },
    {
      "cell_type": "markdown",
      "source": [
        "### Task 2: Using HoG with AdaBoost Classifier (1 points)\n",
        "The second task is to create an AdaBoost classifier that uses the HoG features to classify the given images into one of 7 classes representing different emotions.\n",
        "\n",
        "**Extra Credit:** Implement the AdaBoost Classifier from scratch, i.e. without using scikit-learn (1 points)"
      ],
      "metadata": {
        "id": "lOKW054fdR-W"
      }
    },
    {
      "cell_type": "markdown",
      "source": [
        "**Right now I dont have the resources to run the model for long. So I am only taking the first 5000 images from train and 500 images from test.**"
      ],
      "metadata": {
        "id": "BLcqO0u5tcyW"
      }
    },
    {
      "cell_type": "code",
      "source": [
        "from sklearn.model_selection import train_test_split\n",
        "\n",
        "X_train, X_test, y_train, y_test = train_test_split(x_data, y_data, \n",
        "                                                    test_size=0.3, \n",
        "                                                    random_state=42)\n",
        "X_train.shape"
      ],
      "metadata": {
        "id": "ZxXs_jfzzqiM",
        "colab": {
          "base_uri": "https://localhost:8080/"
        },
        "outputId": "cef75006-fa45-46f4-9b2e-1d23ddcb7bfa"
      },
      "execution_count": 28,
      "outputs": [
        {
          "output_type": "execute_result",
          "data": {
            "text/plain": [
              "(25120, 48, 48)"
            ]
          },
          "metadata": {},
          "execution_count": 28
        }
      ]
    },
    {
      "cell_type": "code",
      "source": [
        "X_train = np.array([hog_features(im) for im in X_train[:5000]])\n",
        "X_test = np.array([hog_features(im) for im in X_test[:500]])"
      ],
      "metadata": {
        "id": "0YJw_IZuds6P"
      },
      "execution_count": 29,
      "outputs": []
    },
    {
      "cell_type": "code",
      "source": [
        "X_train.shape"
      ],
      "metadata": {
        "colab": {
          "base_uri": "https://localhost:8080/"
        },
        "id": "F83lUEwIlazS",
        "outputId": "77e7955b-5b8b-409f-8620-f3ae64ac675d"
      },
      "execution_count": 30,
      "outputs": [
        {
          "data": {
            "text/plain": [
              "(5000, 324)"
            ]
          },
          "execution_count": 30,
          "metadata": {},
          "output_type": "execute_result"
        }
      ]
    },
    {
      "cell_type": "code",
      "source": [
        "y_train = y_train[:5000]\n",
        "y_test = y_test[:500]"
      ],
      "metadata": {
        "id": "7pqafT2Mk_74"
      },
      "execution_count": 31,
      "outputs": []
    },
    {
      "cell_type": "code",
      "source": [
        "from sklearn.ensemble import AdaBoostClassifier"
      ],
      "metadata": {
        "id": "X104dOUflynw"
      },
      "execution_count": 32,
      "outputs": []
    },
    {
      "cell_type": "code",
      "source": [
        "# TODO\n",
        "clf =  AdaBoostClassifier()\n",
        "clf.fit(X_train, y_train)"
      ],
      "metadata": {
        "id": "kUuVDdrLd9YK",
        "colab": {
          "base_uri": "https://localhost:8080/"
        },
        "outputId": "c296976a-f4a4-4dbe-bb91-01b4e1d3a0f7"
      },
      "execution_count": 33,
      "outputs": [
        {
          "output_type": "execute_result",
          "data": {
            "text/plain": [
              "AdaBoostClassifier()"
            ]
          },
          "metadata": {},
          "execution_count": 33
        }
      ]
    },
    {
      "cell_type": "code",
      "source": [
        "from sklearn.metrics import classification_report\n",
        "\n",
        "y_pred_train = clf.predict(X_train)\n",
        "print(classification_report(y_train, y_pred_train))"
      ],
      "metadata": {
        "id": "WNf7nfB5eTw6",
        "colab": {
          "base_uri": "https://localhost:8080/"
        },
        "outputId": "15b5f184-a66b-4435-81c0-c804b380ce29"
      },
      "execution_count": 34,
      "outputs": [
        {
          "output_type": "stream",
          "name": "stdout",
          "text": [
            "              precision    recall  f1-score   support\n",
            "\n",
            "           0       0.30      0.11      0.16       687\n",
            "           1       0.23      0.15      0.18        68\n",
            "           2       0.27      0.14      0.18       684\n",
            "           3       0.38      0.71      0.49      1255\n",
            "           4       0.31      0.19      0.23       870\n",
            "           5       0.29      0.37      0.32       583\n",
            "           6       0.27      0.24      0.26       853\n",
            "\n",
            "    accuracy                           0.33      5000\n",
            "   macro avg       0.29      0.27      0.26      5000\n",
            "weighted avg       0.31      0.33      0.29      5000\n",
            "\n"
          ]
        }
      ]
    },
    {
      "cell_type": "code",
      "source": [
        "y_pred_test = clf.predict(X_test)\n",
        "print(classification_report(y_test, y_pred_test))"
      ],
      "metadata": {
        "id": "SgKrrVIyent3",
        "colab": {
          "base_uri": "https://localhost:8080/"
        },
        "outputId": "998d33da-0412-442a-b6b7-df6bbcc746cf"
      },
      "execution_count": 35,
      "outputs": [
        {
          "output_type": "stream",
          "name": "stdout",
          "text": [
            "              precision    recall  f1-score   support\n",
            "\n",
            "           0       0.28      0.07      0.12        67\n",
            "           1       0.00      0.00      0.00         6\n",
            "           2       0.23      0.08      0.12        83\n",
            "           3       0.38      0.69      0.49       126\n",
            "           4       0.21      0.16      0.18        74\n",
            "           5       0.23      0.25      0.24        59\n",
            "           6       0.24      0.27      0.25        85\n",
            "\n",
            "    accuracy                           0.30       500\n",
            "   macro avg       0.22      0.22      0.20       500\n",
            "weighted avg       0.27      0.30      0.26       500\n",
            "\n"
          ]
        }
      ]
    },
    {
      "cell_type": "markdown",
      "source": [
        "As we can see above, even though i only took a subset of the training and test dataset, the accuracy I got was **30%** which is better than the random choice which is around 15%. "
      ],
      "metadata": {
        "id": "KRwowUX8wDf7"
      }
    }
  ]
}